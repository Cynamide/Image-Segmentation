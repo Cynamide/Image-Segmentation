{
 "cells": [
  {
   "cell_type": "markdown",
   "metadata": {},
   "source": [
    "Importing required dependencies"
   ]
  },
  {
   "cell_type": "code",
   "execution_count": 1,
   "metadata": {},
   "outputs": [],
   "source": [
    "from pycocotools.coco import COCO\r\n",
    "import numpy as np\r\n",
    "import skimage.io as io\r\n",
    "import random\r\n",
    "import cv2\r\n",
    "%matplotlib inline"
   ]
  },
  {
   "cell_type": "markdown",
   "metadata": {},
   "source": [
    "Important variables to be changed according to your preferences (or left alone)"
   ]
  },
  {
   "cell_type": "code",
   "execution_count": 2,
   "metadata": {},
   "outputs": [],
   "source": [
    "classes = ['laptop', 'tv']\r\n",
    "image_size = (224,224)\r\n",
    "folder = './COCOdataset2017'\r\n",
    "mode = ['val', 'train']"
   ]
  },
  {
   "cell_type": "markdown",
   "metadata": {},
   "source": [
    "Filter out the images with the inputs from \"class\" variable containing a list of classes of COCODataset"
   ]
  },
  {
   "cell_type": "code",
   "execution_count": 3,
   "metadata": {},
   "outputs": [],
   "source": [
    "def filterDataset(folder, classes=None, mode='train'):    \r\n",
    "    # initialize COCO api for instance annotations\r\n",
    "    annFile = '{}/annotations/instances_{}.json'.format(folder, mode)\r\n",
    "    coco = COCO(annFile)\r\n",
    "    \r\n",
    "    images = []\r\n",
    "    if classes!=None:\r\n",
    "        # iterate for each individual class in the list\r\n",
    "        for className in classes:\r\n",
    "            # get all images containing given categories\r\n",
    "            catIds = coco.getCatIds(catNms=className)\r\n",
    "            imgIds = coco.getImgIds(catIds=catIds)\r\n",
    "            images += coco.loadImgs(imgIds)\r\n",
    "    \r\n",
    "    else:\r\n",
    "        imgIds = coco.getImgIds()\r\n",
    "        images = coco.loadImgs(imgIds)\r\n",
    "    \r\n",
    "    # Now, filter out the repeated images\r\n",
    "    unique_images = []\r\n",
    "    for i in range(len(images)):\r\n",
    "        if images[i] not in unique_images:\r\n",
    "            unique_images.append(images[i])\r\n",
    "            \r\n",
    "    random.shuffle(unique_images)\r\n",
    "    dataset_size = len(unique_images)\r\n",
    "    \r\n",
    "    return unique_images, dataset_size, coco"
   ]
  },
  {
   "cell_type": "markdown",
   "metadata": {},
   "source": [
    "Helper functions for creating trainig data"
   ]
  },
  {
   "cell_type": "code",
   "execution_count": 4,
   "metadata": {},
   "outputs": [],
   "source": [
    "def getClassName(classID, cats):\r\n",
    "    for i in range(len(cats)):\r\n",
    "        if cats[i]['id']==classID:\r\n",
    "            return cats[i]['name']\r\n",
    "    return None\r\n",
    "\r\n",
    "def getImage(imageObj, img_folder, input_image_size):\r\n",
    "    # Read and normalize an image\r\n",
    "    train_img = io.imread(img_folder + '/' + imageObj['file_name'])/255.0\r\n",
    "    # Resize\r\n",
    "    train_img = cv2.resize(train_img, input_image_size)\r\n",
    "    if (len(train_img.shape)==3 and train_img.shape[2]==3): # If it is a RGB 3 channel image\r\n",
    "        return train_img\r\n",
    "    else: # To handle a black and white image, increase dimensions to 3\r\n",
    "        stacked_img = np.stack((train_img,)*3, axis=-1)\r\n",
    "        return stacked_img\r\n",
    "        \r\n",
    "def getBinaryMask(imageObj, coco, catIds, input_image_size):\r\n",
    "    annIds = coco.getAnnIds(imageObj['id'], catIds=catIds, iscrowd=None)\r\n",
    "    anns = coco.loadAnns(annIds)\r\n",
    "    train_mask = np.zeros(input_image_size)\r\n",
    "    for a in range(len(anns)):\r\n",
    "        new_mask = cv2.resize(coco.annToMask(anns[a]), input_image_size)\r\n",
    "        \r\n",
    "        #Threshold because resizing may cause extraneous values\r\n",
    "        new_mask[new_mask >= 0.5] = 1\r\n",
    "        new_mask[new_mask < 0.5] = 0\r\n",
    "\r\n",
    "        train_mask = np.maximum(new_mask, train_mask)\r\n",
    "\r\n",
    "    # Add extra dimension for parity with train_img size [X * X * 3]\r\n",
    "    train_mask = train_mask.reshape(input_image_size[0], input_image_size[1])\r\n",
    "    return train_mask\r\n",
    "\r\n",
    "def dataGeneratorCoco(images,coco, classes,folder,\r\n",
    "                      batch_size=4,input_image_size=(224,224), mode='train'):\r\n",
    "                      \r\n",
    "    img_folder = '{}/images/{}'.format(folder, mode)\r\n",
    "    catIds = coco.getCatIds(catNms=classes)\r\n",
    "\r\n",
    "    for i in range(batch_size): \r\n",
    "        imageObj = images[i]\r\n",
    "        train_img = getImage(imageObj, img_folder, input_image_size)\r\n",
    "        cv2.imwrite(folder + \"/images/train_img/\" + imageObj['file_name'], cv2.cvtColor(np.float32(train_img), cv2.COLOR_BGR2RGB)*255)\r\n",
    "        \r\n",
    "        train_mask = getBinaryMask(imageObj, coco, catIds, input_image_size)\r\n",
    "        cv2.imwrite(folder + \"/images/train_mask/\".format(mode) + imageObj['file_name'], train_mask*255) \r\n",
    "        "
   ]
  },
  {
   "cell_type": "markdown",
   "metadata": {},
   "source": [
    "Finally call the functions to create the masked and non masked images resized according to \"image_size\" above"
   ]
  },
  {
   "cell_type": "code",
   "execution_count": 5,
   "metadata": {},
   "outputs": [
    {
     "name": "stdout",
     "output_type": "stream",
     "text": [
      "loading annotations into memory...\n",
      "Done (t=0.77s)\n",
      "creating index...\n",
      "index created!\n",
      "loading annotations into memory...\n",
      "Done (t=20.55s)\n",
      "creating index...\n",
      "index created!\n"
     ]
    }
   ],
   "source": [
    "\r\n",
    "for mode in mode:\r\n",
    "    images, dataset_size, coco = filterDataset(folder, classes, mode)\r\n",
    "    batch_size = len(images)\r\n",
    "    dataGeneratorCoco(images, coco, classes, folder, batch_size,image_size, mode)"
   ]
  }
 ],
 "metadata": {
  "interpreter": {
   "hash": "9b480f749ce4ef3b2bb2dc91bb87ab66f696b937cd35ce6ca033d1d9ef37b676"
  },
  "kernelspec": {
   "display_name": "Python 3.7.9 64-bit",
   "name": "python3"
  },
  "language_info": {
   "name": "python",
   "version": ""
  },
  "orig_nbformat": 4
 },
 "nbformat": 4,
 "nbformat_minor": 2
}