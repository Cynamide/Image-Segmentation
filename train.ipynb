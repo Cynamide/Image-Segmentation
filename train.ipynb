{
 "cells": [
  {
   "cell_type": "code",
   "execution_count": 1,
   "metadata": {},
   "outputs": [],
   "source": [
    "from pycocotools.coco import COCO\r\n",
    "import numpy as np\r\n",
    "import skimage.io as io\r\n",
    "import random\r\n",
    "import os\r\n",
    "import cv2\r\n",
    "from tensorflow.keras.preprocessing.image import ImageDataGenerator\r\n",
    "\r\n",
    "### For visualizing the outputs ###\r\n",
    "import matplotlib.pyplot as plt\r\n",
    "import matplotlib.gridspec as gridspec\r\n",
    "import pathlib\r\n",
    "import PIL\r\n",
    "\r\n",
    "%matplotlib inline"
   ]
  },
  {
   "cell_type": "code",
   "execution_count": 2,
   "metadata": {},
   "outputs": [],
   "source": [
    "import tensorflow as tf"
   ]
  },
  {
   "cell_type": "markdown",
   "metadata": {},
   "source": [
    "dataDir='./COCOdataset2017'\r\n",
    "dataType='train'\r\n",
    "annFile='{}/annotations/instances_{}.json'.format(dataDir,dataType)\r\n",
    "\r\n",
    "# Initialize the COCO api for instance annotations\r\n",
    "coco=COCO(annFile)\r\n",
    "\r\n",
    "# Load the categories in a variable\r\n",
    "catIDs = coco.getCatIds()\r\n",
    "cats = coco.loadCats(catIDs)\r\n",
    "\r\n",
    "print(cats)"
   ]
  },
  {
   "cell_type": "markdown",
   "metadata": {},
   "source": [
    "def getClassName(classID, cats):\r\n",
    "    for i in range(len(cats)):\r\n",
    "        if cats[i]['id']==classID:\r\n",
    "            return cats[i]['name']\r\n",
    "    return \"None\"\r\n",
    "print('The class name is', getClassName(88, cats))"
   ]
  },
  {
   "cell_type": "markdown",
   "metadata": {},
   "source": [
    "# Define the classes (out of the 81) which you want to see. Others will not be shown.\r\n",
    "filterClasses = ['laptop', 'tv', 'cell phone']\r\n",
    "\r\n",
    "# Fetch class IDs only corresponding to the filterClasses\r\n",
    "catIds = coco.getCatIds(catNms=filterClasses) \r\n",
    "# Get all images containing the above Category IDs\r\n",
    "imgIds = coco.getImgIds(catIds=catIds)\r\n",
    "print(\"Number of images containing all the  classes:\", len(imgIds))\r\n",
    "\r\n",
    "# load and display a random image\r\n",
    "img = coco.loadImgs(imgIds[np.random.randint(0,len(imgIds))])[0]\r\n",
    "I = io.imread('{}/images/{}/{}'.format(dataDir,dataType,img['file_name']))/255.0\r\n",
    "\r\n",
    "plt.axis('off')\r\n",
    "plt.imshow(I)\r\n",
    "plt.show()"
   ]
  },
  {
   "cell_type": "markdown",
   "metadata": {},
   "source": [
    "plt.imshow(I)\r\n",
    "plt.axis('off')\r\n",
    "annIds = coco.getAnnIds(imgIds=img['id'], catIds=catIds, iscrowd=None)\r\n",
    "anns = coco.loadAnns(annIds)\r\n",
    "coco.showAnns(anns)"
   ]
  },
  {
   "cell_type": "markdown",
   "metadata": {},
   "source": [
    "# ALL POSSIBLE COMBINATIONS #"
   ]
  },
  {
   "cell_type": "markdown",
   "metadata": {},
   "source": [
    "classes = ['laptop', 'tv', 'cell phone']\r\n",
    "\r\n",
    "images = []\r\n",
    "if classes!=None:\r\n",
    "    # iterate for each individual class in the list\r\n",
    "    for className in classes:\r\n",
    "        # get all images containing given class\r\n",
    "        catIds = coco.getCatIds(catNms=className)\r\n",
    "        imgIds = coco.getImgIds(catIds=catIds)\r\n",
    "        images += coco.loadImgs(imgIds)\r\n",
    "else:\r\n",
    "    imgIds = coco.getImgIds()\r\n",
    "    images = coco.loadImgs(imgIds)\r\n",
    "    \r\n",
    "# Now, filter out the repeated images    \r\n",
    "unique_images = []\r\n",
    "for i in range(len(images)):\r\n",
    "    if images[i] not in unique_images:\r\n",
    "        unique_images.append(images[i])\r\n",
    "\r\n",
    "dataset_size = len(unique_images)\r\n",
    "\r\n",
    "print(\"Number of images containing the filter classes:\", dataset_size)"
   ]
  },
  {
   "cell_type": "markdown",
   "metadata": {},
   "source": [
    "# GENERATE A SEGMENTATION MASK #"
   ]
  },
  {
   "cell_type": "markdown",
   "metadata": {},
   "source": [
    "filterClasses = ['laptop', 'tv', 'cell phone']\r\n",
    "mask = np.zeros((img['height'],img['width']))\r\n",
    "for i in range(len(anns)):\r\n",
    "    className = getClassName(anns[i]['category_id'], cats)\r\n",
    "    pixel_value = filterClasses.index(className)+1\r\n",
    "    mask = np.maximum(coco.annToMask(anns[i])*pixel_value, mask)\r\n",
    "plt.imshow(mask)"
   ]
  },
  {
   "cell_type": "markdown",
   "metadata": {},
   "source": [
    "mask = np.zeros((img['height'],img['width']))\r\n",
    "for i in range(len(anns)):\r\n",
    "    mask = np.maximum(coco.annToMask(anns[i]), mask)\r\n",
    "plt.imshow(mask)"
   ]
  },
  {
   "cell_type": "code",
   "execution_count": 3,
   "metadata": {},
   "outputs": [],
   "source": [
    "def filterDataset(folder, classes=None, mode='train'):    \r\n",
    "    # initialize COCO api for instance annotations\r\n",
    "    annFile = '{}/annotations/instances_{}.json'.format(folder, mode)\r\n",
    "    coco = COCO(annFile)\r\n",
    "    \r\n",
    "    images = []\r\n",
    "    if classes!=None:\r\n",
    "        # iterate for each individual class in the list\r\n",
    "        for className in classes:\r\n",
    "            # get all images containing given categories\r\n",
    "            catIds = coco.getCatIds(catNms=className)\r\n",
    "            imgIds = coco.getImgIds(catIds=catIds)\r\n",
    "            images += coco.loadImgs(imgIds)\r\n",
    "    \r\n",
    "    else:\r\n",
    "        imgIds = coco.getImgIds()\r\n",
    "        images = coco.loadImgs(imgIds)\r\n",
    "    \r\n",
    "    # Now, filter out the repeated images\r\n",
    "    unique_images = []\r\n",
    "    for i in range(len(images)):\r\n",
    "        if images[i] not in unique_images:\r\n",
    "            unique_images.append(images[i])\r\n",
    "            \r\n",
    "    random.shuffle(unique_images)\r\n",
    "    dataset_size = len(unique_images)\r\n",
    "    \r\n",
    "    return unique_images, dataset_size, coco"
   ]
  },
  {
   "cell_type": "code",
   "execution_count": 4,
   "metadata": {},
   "outputs": [
    {
     "name": "stdout",
     "output_type": "stream",
     "text": [
      "loading annotations into memory...\n",
      "Done (t=0.70s)\n",
      "creating index...\n",
      "index created!\n"
     ]
    }
   ],
   "source": [
    "folder = './COCOdataset2017'\r\n",
    "classes = ['laptop', 'tv']\r\n",
    "mode = 'val'\r\n",
    "images, dataset_size, coco = filterDataset(folder, classes, mode)"
   ]
  },
  {
   "cell_type": "code",
   "execution_count": 25,
   "metadata": {},
   "outputs": [
    {
     "name": "stdout",
     "output_type": "stream",
     "text": [
      "337\n"
     ]
    }
   ],
   "source": [
    "print(len(images))"
   ]
  },
  {
   "cell_type": "code",
   "execution_count": 7,
   "metadata": {},
   "outputs": [],
   "source": [
    "def getClassName(classID, cats):\r\n",
    "    for i in range(len(cats)):\r\n",
    "        if cats[i]['id']==classID:\r\n",
    "            return cats[i]['name']\r\n",
    "    return None\r\n",
    "\r\n",
    "def getImage(imageObj, img_folder, input_image_size):\r\n",
    "    # Read and normalize an image\r\n",
    "    train_img = io.imread(img_folder + '/' + imageObj['file_name'])/255.0\r\n",
    "    # Resize\r\n",
    "    train_img = cv2.resize(train_img, input_image_size)\r\n",
    "    if (len(train_img.shape)==3 and train_img.shape[2]==3): # If it is a RGB 3 channel image\r\n",
    "        return train_img\r\n",
    "    else: # To handle a black and white image, increase dimensions to 3\r\n",
    "        stacked_img = np.stack((train_img,)*3, axis=-1)\r\n",
    "        return stacked_img\r\n",
    "        \r\n",
    "def getNormalMask(imageObj, classes, coco, catIds, input_image_size):\r\n",
    "    annIds = coco.getAnnIds(imageObj['id'], catIds=catIds, iscrowd=None)\r\n",
    "    anns = coco.loadAnns(annIds)\r\n",
    "    cats = coco.loadCats(catIds)\r\n",
    "    train_mask = np.zeros(input_image_size)\r\n",
    "    for a in range(len(anns)):\r\n",
    "        className = getClassName(anns[a]['category_id'], cats)\r\n",
    "        pixel_value = classes.index(className)+1\r\n",
    "        new_mask = cv2.resize(coco.annToMask(anns[a])*pixel_value, input_image_size)\r\n",
    "        train_mask = np.maximum(new_mask, train_mask)\r\n",
    "\r\n",
    "    # Add extra dimension for parity with train_img size [X * X * 3]\r\n",
    "    train_mask = train_mask.reshape(input_image_size[0], input_image_size[1], 3)\r\n",
    "    return train_mask\r\n",
    "\r\n",
    "def getBinaryMask(imageObj, coco, catIds, input_image_size):\r\n",
    "    annIds = coco.getAnnIds(imageObj['id'], catIds=catIds, iscrowd=None)\r\n",
    "    anns = coco.loadAnns(annIds)\r\n",
    "    train_mask = np.zeros(input_image_size)\r\n",
    "    for a in range(len(anns)):\r\n",
    "        new_mask = cv2.resize(coco.annToMask(anns[a]), input_image_size)\r\n",
    "        \r\n",
    "        #Threshold because resizing may cause extraneous values\r\n",
    "        new_mask[new_mask >= 0.5] = 1\r\n",
    "        new_mask[new_mask < 0.5] = 0\r\n",
    "\r\n",
    "        train_mask = np.maximum(new_mask, train_mask)\r\n",
    "\r\n",
    "    # Add extra dimension for parity with train_img size [X * X * 3]\r\n",
    "    train_mask = train_mask.reshape(input_image_size[0], input_image_size[1])\r\n",
    "    return train_mask\r\n",
    "\r\n",
    "def dataGeneratorCoco(images,coco, classes,folder,\r\n",
    "                      batch_size=4,input_image_size=(224,224), mode='train', mask_type='binary'):\r\n",
    "                      \r\n",
    "    img_folder = '{}/images/{}'.format(folder, mode)\r\n",
    "    catIds = coco.getCatIds(catNms=classes)\r\n",
    "    \r\n",
    "    #img = np.zeros((batch_size, input_image_size[0], input_image_size[1], 3)).astype('float')\r\n",
    "    #mask = np.zeros((batch_size, input_image_size[0], input_image_size[1], 1)).astype('float')\r\n",
    "\r\n",
    "    for i in range(batch_size): #initially from 0 to batch_size, when c = 0\r\n",
    "        imageObj = images[i]\r\n",
    "        #train_img = getImage(imageObj, img_folder, input_image_size)\r\n",
    "        ### Create Mask ###\r\n",
    "        if mask_type==\"normal\":\r\n",
    "            train_mask = getNormalMask(imageObj, classes, coco, catIds, input_image_size) \r\n",
    "        # Add to respective batch sized arrays\r\n",
    "        #cv2.imwrite(folder + \"/images/\" + imageObj['file_name'], cv2.cvtColor(np.float32(train_img), cv2.COLOR_BGR2RGB)*255)\r\n",
    "        cv2.imwrite(folder + \"/images/\" + imageObj['file_name'], train_mask*255)"
   ]
  },
  {
   "cell_type": "code",
   "execution_count": 8,
   "metadata": {},
   "outputs": [
    {
     "ename": "ValueError",
     "evalue": "cannot reshape array of size 50176 into shape (224,224,3)",
     "output_type": "error",
     "traceback": [
      "\u001b[1;31m---------------------------------------------------------------------------\u001b[0m",
      "\u001b[1;31mValueError\u001b[0m                                Traceback (most recent call last)",
      "\u001b[1;32m<ipython-input-8-45ef39ffc6a8>\u001b[0m in \u001b[0;36m<module>\u001b[1;34m\u001b[0m\n\u001b[0;32m      4\u001b[0m \u001b[1;33m\u001b[0m\u001b[0m\n\u001b[0;32m      5\u001b[0m gen = dataGeneratorCoco(images, coco, classes, folder, \n\u001b[1;32m----> 6\u001b[1;33m                              batch_size,input_image_size, mode, mask_type)\n\u001b[0m\u001b[0;32m      7\u001b[0m \u001b[1;33m\u001b[0m\u001b[0m\n",
      "\u001b[1;32m<ipython-input-7-ab96824fe9f7>\u001b[0m in \u001b[0;36mdataGeneratorCoco\u001b[1;34m(images, coco, classes, folder, batch_size, input_image_size, mode, mask_type)\u001b[0m\n\u001b[0;32m     62\u001b[0m         \u001b[1;31m### Create Mask ###\u001b[0m\u001b[1;33m\u001b[0m\u001b[1;33m\u001b[0m\u001b[1;33m\u001b[0m\u001b[0m\n\u001b[0;32m     63\u001b[0m         \u001b[1;32mif\u001b[0m \u001b[0mmask_type\u001b[0m\u001b[1;33m==\u001b[0m\u001b[1;34m\"normal\"\u001b[0m\u001b[1;33m:\u001b[0m\u001b[1;33m\u001b[0m\u001b[1;33m\u001b[0m\u001b[0m\n\u001b[1;32m---> 64\u001b[1;33m             \u001b[0mtrain_mask\u001b[0m \u001b[1;33m=\u001b[0m \u001b[0mgetNormalMask\u001b[0m\u001b[1;33m(\u001b[0m\u001b[0mimageObj\u001b[0m\u001b[1;33m,\u001b[0m \u001b[0mclasses\u001b[0m\u001b[1;33m,\u001b[0m \u001b[0mcoco\u001b[0m\u001b[1;33m,\u001b[0m \u001b[0mcatIds\u001b[0m\u001b[1;33m,\u001b[0m \u001b[0minput_image_size\u001b[0m\u001b[1;33m)\u001b[0m\u001b[1;33m\u001b[0m\u001b[1;33m\u001b[0m\u001b[0m\n\u001b[0m\u001b[0;32m     65\u001b[0m         \u001b[1;31m# Add to respective batch sized arrays\u001b[0m\u001b[1;33m\u001b[0m\u001b[1;33m\u001b[0m\u001b[1;33m\u001b[0m\u001b[0m\n\u001b[0;32m     66\u001b[0m         \u001b[1;31m#cv2.imwrite(folder + \"/images/\" + imageObj['file_name'], cv2.cvtColor(np.float32(train_img), cv2.COLOR_BGR2RGB)*255)\u001b[0m\u001b[1;33m\u001b[0m\u001b[1;33m\u001b[0m\u001b[1;33m\u001b[0m\u001b[0m\n",
      "\u001b[1;32m<ipython-input-7-ab96824fe9f7>\u001b[0m in \u001b[0;36mgetNormalMask\u001b[1;34m(imageObj, classes, coco, catIds, input_image_size)\u001b[0m\n\u001b[0;32m     28\u001b[0m \u001b[1;33m\u001b[0m\u001b[0m\n\u001b[0;32m     29\u001b[0m     \u001b[1;31m# Add extra dimension for parity with train_img size [X * X * 3]\u001b[0m\u001b[1;33m\u001b[0m\u001b[1;33m\u001b[0m\u001b[1;33m\u001b[0m\u001b[0m\n\u001b[1;32m---> 30\u001b[1;33m     \u001b[0mtrain_mask\u001b[0m \u001b[1;33m=\u001b[0m \u001b[0mtrain_mask\u001b[0m\u001b[1;33m.\u001b[0m\u001b[0mreshape\u001b[0m\u001b[1;33m(\u001b[0m\u001b[0minput_image_size\u001b[0m\u001b[1;33m[\u001b[0m\u001b[1;36m0\u001b[0m\u001b[1;33m]\u001b[0m\u001b[1;33m,\u001b[0m \u001b[0minput_image_size\u001b[0m\u001b[1;33m[\u001b[0m\u001b[1;36m1\u001b[0m\u001b[1;33m]\u001b[0m\u001b[1;33m,\u001b[0m \u001b[1;36m3\u001b[0m\u001b[1;33m)\u001b[0m\u001b[1;33m\u001b[0m\u001b[1;33m\u001b[0m\u001b[0m\n\u001b[0m\u001b[0;32m     31\u001b[0m     \u001b[1;32mreturn\u001b[0m \u001b[0mtrain_mask\u001b[0m\u001b[1;33m\u001b[0m\u001b[1;33m\u001b[0m\u001b[0m\n\u001b[0;32m     32\u001b[0m \u001b[1;33m\u001b[0m\u001b[0m\n",
      "\u001b[1;31mValueError\u001b[0m: cannot reshape array of size 50176 into shape (224,224,3)"
     ]
    }
   ],
   "source": [
    "batch_size = 337\r\n",
    "input_image_size = (224,224)\r\n",
    "mask_type = 'normal'\r\n",
    "\r\n",
    "gen = dataGeneratorCoco(images, coco, classes, folder, \r\n",
    "                             batch_size,input_image_size, mode, mask_type)\r\n",
    "                             "
   ]
  }
 ],
 "metadata": {
  "interpreter": {
   "hash": "9b480f749ce4ef3b2bb2dc91bb87ab66f696b937cd35ce6ca033d1d9ef37b676"
  },
  "kernelspec": {
   "display_name": "Python 3.7.9 64-bit",
   "name": "python3"
  },
  "language_info": {
   "name": "python",
   "version": ""
  },
  "orig_nbformat": 4
 },
 "nbformat": 4,
 "nbformat_minor": 2
}